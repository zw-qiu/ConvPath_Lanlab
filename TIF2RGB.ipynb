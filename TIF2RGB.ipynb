{
 "cells": [
  {
   "cell_type": "code",
   "execution_count": 33,
   "metadata": {
    "ExecuteTime": {
     "end_time": "2019-09-26T03:53:35.837165Z",
     "start_time": "2019-09-26T03:43:29.525073Z"
    },
    "code_folding": [
     4
    ]
   },
   "outputs": [
    {
     "name": "stdout",
     "output_type": "stream",
     "text": [
      "C:\\Python\\JupyterNotebook\\ConPath\\ImagePatchInfo\\ROI1\n",
      "C:\\Python\\JupyterNotebook\\ConPath\\ImagePatchInfo\\ROI2\n",
      "C:\\Python\\JupyterNotebook\\ConPath\\ImagePatchInfo\\ROI3\n",
      "C:\\Python\\JupyterNotebook\\ConPath\\ImagePatchInfo\\ROI4\n",
      "C:\\Python\\JupyterNotebook\\ConPath\\ImagePatchInfo\\ROI5\n",
      "C:\\Python\\JupyterNotebook\\ConPath\\ImagePatchInfo\\ROI6\n",
      "C:\\Python\\JupyterNotebook\\ConPath\\ImagePatchInfo\\ROI7\n",
      "C:\\Python\\JupyterNotebook\\ConPath\\ImagePatchInfo\\ROI8\n",
      "C:\\Python\\JupyterNotebook\\ConPath\\ImagePatchInfo\\ROI9\n",
      "C:\\Python\\JupyterNotebook\\ConPath\\ImagePatchInfo\\ROI10\n"
     ]
    }
   ],
   "source": [
    "import os\n",
    "import cv2 \n",
    "import glob\n",
    "\n",
    "def mkdir(path):   \n",
    "    isExists=os.path.exists(path)# 判断路径是否存在 # 存在 True # 不存在 False\n",
    "    if not isExists:\n",
    "        os.makedirs(path) \n",
    "        return True\n",
    "    else:\n",
    "        return False\n",
    "    \n",
    "path = os.getcwd() #获取当前代码文件的路径 C:\\Python\\JupyterNotebook\\ConPath\\ImagePatchInfo\n",
    "path_list = glob.glob(path+'\\\\*_patch')#patch文件夹的个数：10个\n",
    "for i in range(1,len(path_list)+1):#ROI一共10个文件夹”\n",
    "    data_father_name='382412-2_'+str(i)+'_ROI_Image_Patch'#patch文件夹名\n",
    "    data_base_dir=path+'\\\\'+data_father_name#图像文件存储目录\n",
    "    #print(data_base_dir)   #C:\\Python\\JupyterNotebook\\ConPath\\ImagePatchInfo\\382412-2_1_ROI_Image_Patch\n",
    "    data_save_dir=path+'\\\\'+'ROI'+str(i)#图像储存目录\n",
    "    mkdir(data_save_dir)#创建存储目录\n",
    "    print(data_save_dir)  #C:\\Python\\JupyterNotebook\\ConPath\\ImagePatchInfo\\ROI1\n",
    "    tif_list = [x for x in os.listdir(data_base_dir) if x.endswith(\".tif\")] #找到当前路径下的所有.tif文件\n",
    "    for num, imgfile in enumerate(tif_list,start=1):#num为索引，imgfile为图像名\n",
    "        img = cv2.imread(data_base_dir+'\\\\'+imgfile,1)  #通道为BGR\n",
    "        cv2.imwrite(data_save_dir + '\\\\'+imgfile.split('.')[0]+\".jpg\", img)\n",
    "        #print('总共:',len(tif_list),'张，剩余:',len(tif_list)-num,'张')\n",
    "## img=cv2参数：\n",
    "#IMREAD_UNCHANGED = -1   #不进行转化，比如保存为16位的图片，读取出来仍然为16位。\n",
    "#IMREAD_GRAYSCALE = 0    #进行转化为灰度图，比如保存为16位的图片，读取出来为8位，类型为CV_8UC1。\n",
    "#IMREAD_COLOR = 1        #进行转化为RGB三通道图像，图像深度转为8位\n",
    "#IMREAD_ANYDEPTH = 2     #保持图像深度不变，进行转化为灰度图。\n",
    "#IMREAD_ANYCOLOR = 4     #若图像通道数小于等于3，则保持原通道数不变；若通道数大于3，则只取取前三个通道，图像深度转为8位。"
   ]
  }
 ],
 "metadata": {
  "jupytext": {
   "encoding": "# -*- coding: utf-8 -*-",
   "formats": "ipynb,py:light"
  },
  "kernelspec": {
   "display_name": "Python 3",
   "language": "python",
   "name": "python3"
  },
  "language_info": {
   "codemirror_mode": {
    "name": "ipython",
    "version": 3
   },
   "file_extension": ".py",
   "mimetype": "text/x-python",
   "name": "python",
   "nbconvert_exporter": "python",
   "pygments_lexer": "ipython3",
   "version": "3.6.5"
  },
  "toc": {
   "base_numbering": 1,
   "nav_menu": {},
   "number_sections": true,
   "sideBar": true,
   "skip_h1_title": false,
   "title_cell": "Table of Contents",
   "title_sidebar": "Contents",
   "toc_cell": false,
   "toc_position": {},
   "toc_section_display": true,
   "toc_window_display": false
  }
 },
 "nbformat": 4,
 "nbformat_minor": 2
}
