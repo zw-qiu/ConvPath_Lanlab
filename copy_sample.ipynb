{
 "cells": [
  {
   "cell_type": "markdown",
   "metadata": {},
   "source": [
    "### 复制training中的某一种样本N遍"
   ]
  },
  {
   "cell_type": "code",
   "execution_count": null,
   "metadata": {},
   "outputs": [],
   "source": [
    "import numpy as np\n",
    "from scipy import io\n",
    "from PIL import Image\n",
    "import glob\n",
    "from shutil import copyfile\n",
    "import os\n",
    "path = os.getcwd()\n",
    "\n",
    "def LoadInMat(path):\n",
    "        # the path should also including the name of the .mat file\n",
    "        File_Disp = io.loadmat(path)\n",
    "        # Establish an empty list to save the valid name of variables\n",
    "        NameOfVariable = []\n",
    "        for key in File_Disp.keys():\n",
    "            if key == '__globals__' or key == '__version__' or key == '__header__':\n",
    "                continue\n",
    "            else:\n",
    "                NameOfVariable.append(key)\n",
    "        MatData = {}\n",
    "        for t in range(len(NameOfVariable)):\n",
    "            MatData[NameOfVariable[t]] = File_Disp[NameOfVariable[t]].tolist()\n",
    "        MatData['Keys'] = NameOfVariable\n",
    "        return MatData\n",
    "    \n",
    "temp = glob.glob('E:\\\\Jupyter-notebook\\\\ConvPath\\\\train1\\\\*')\n",
    "numoffiles = len(temp)#9\n",
    "#print(numoffiles)\n",
    "lines=[]\n",
    "for i in range(numoffiles):\n",
    "    loadmat=LoadInMat(temp[i])\n",
    "    img=loadmat['img']\n",
    "    label=loadmat['label']\n",
    "    if label[0][0]==1:\n",
    "        for k in range(8):\n",
    "            copyfile(temp[i],temp[i].split('.mat')[0]+'_'+str(k)+'.mat')"
   ]
  }
 ],
 "metadata": {
  "jupytext": {
   "encoding": "# -*- coding: utf-8 -*-",
   "formats": "ipynb,py:light"
  },
  "kernelspec": {
   "display_name": "Pytorch for DeepLearning",
   "language": "python",
   "name": "pytorch"
  },
  "language_info": {
   "codemirror_mode": {
    "name": "ipython",
    "version": 3
   },
   "file_extension": ".py",
   "mimetype": "text/x-python",
   "name": "python",
   "nbconvert_exporter": "python",
   "pygments_lexer": "ipython3",
   "version": "3.6.9"
  },
  "toc": {
   "base_numbering": 1,
   "nav_menu": {},
   "number_sections": true,
   "sideBar": true,
   "skip_h1_title": false,
   "title_cell": "Table of Contents",
   "title_sidebar": "Contents",
   "toc_cell": false,
   "toc_position": {},
   "toc_section_display": true,
   "toc_window_display": false
  }
 },
 "nbformat": 4,
 "nbformat_minor": 2
}
